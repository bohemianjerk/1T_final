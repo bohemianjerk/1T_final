{
 "cells": [
  {
   "cell_type": "markdown",
   "id": "852fe3cb",
   "metadata": {},
   "source": [
    "# Проект 5. Служба такси."
   ]
  },
  {
   "cell_type": "markdown",
   "id": "884cd637",
   "metadata": {},
   "source": [
    "### Импорт библиотек"
   ]
  },
  {
   "cell_type": "code",
   "execution_count": 3,
   "id": "3208c02b",
   "metadata": {},
   "outputs": [],
   "source": [
    "import pandas as pd\n",
    "from pyspark.sql import SparkSession\n",
    "from pyspark.sql.types import *\n",
    "import pyspark.sql.functions as F\n",
    "from pyspark.sql.functions import count\n",
    "from pyspark.sql.functions import col, when, count"
   ]
  },
  {
   "cell_type": "markdown",
   "id": "302cb634",
   "metadata": {},
   "source": [
    "### Создание спарк-сессии"
   ]
  },
  {
   "cell_type": "code",
   "execution_count": 4,
   "id": "0d3065cb",
   "metadata": {},
   "outputs": [],
   "source": [
    "spark = SparkSession.builder\\\n",
    "    .master(\"local[*]\")\\\n",
    "    .appName(\"SparkFirst\")\\\n",
    "    .config(\"spark.executor.memory\", \"10g\")\\\n",
    "    .config(\"spark.executor.cores\", 5)\\\n",
    "    .config(\"spark.dynamicAllocation.enabled\", \"true\")\\\n",
    "    .config(\"spark.dynamicAllocation.maxExecutors\", 5)\\\n",
    "    .config(\"spark.shuffle.service.enabled\", \"true\")\\\n",
    ".getOrCreate()"
   ]
  },
  {
   "cell_type": "markdown",
   "id": "3c338c26",
   "metadata": {},
   "source": [
    "### Создание dataframe из скачанного файла"
   ]
  },
  {
   "cell_type": "code",
   "execution_count": 5,
   "id": "a5c665ca",
   "metadata": {},
   "outputs": [],
   "source": [
    "schema = StructType([\n",
    "    StructField('VendorId', IntegerType(), True),\n",
    "    StructField('tpep_pickup_datetime', TimestampType(), True),\n",
    "    StructField('tpep_dropoff_datetime', TimestampType(), True),\n",
    "    StructField('passenger_count', IntegerType(), True),\n",
    "    StructField('trip_distance', DoubleType(), True),\n",
    "    StructField('RatecodeID', IntegerType(), True),\n",
    "    StructField('store_and_fwd_flag', StringType(), True),\n",
    "    StructField('PULocationID', IntegerType(), True),\n",
    "    StructField('DOLocationID', IntegerType(), True),\n",
    "    StructField('payment_type', IntegerType(), True),\n",
    "    StructField('fare_amount', DoubleType(), True),\n",
    "    StructField('extra', DoubleType(), True),\n",
    "    StructField('mta_tax', DoubleType(), True),\n",
    "    StructField('tip_amount', DoubleType(), True),\n",
    "    StructField('tolls_amount', DoubleType(), True),\n",
    "    StructField('improvement_surcharge', DoubleType(), True),\n",
    "    StructField('total_amount', DoubleType(), True),\n",
    "    StructField('congestion_surcharge', DoubleType(), True),\n",
    "])\n",
    "\n",
    "df = spark.read.option('header', 'true').csv('yellow_tripdata_2020-01.csv', schema=schema)"
   ]
  },
  {
   "cell_type": "markdown",
   "id": "5eda7031",
   "metadata": {},
   "source": [
    "### Проверка датафрейма"
   ]
  },
  {
   "cell_type": "code",
   "execution_count": 6,
   "id": "7dbe3e8e",
   "metadata": {},
   "outputs": [
    {
     "name": "stdout",
     "output_type": "stream",
     "text": [
      "root\n",
      " |-- VendorId: integer (nullable = true)\n",
      " |-- tpep_pickup_datetime: timestamp (nullable = true)\n",
      " |-- tpep_dropoff_datetime: timestamp (nullable = true)\n",
      " |-- passenger_count: integer (nullable = true)\n",
      " |-- trip_distance: double (nullable = true)\n",
      " |-- RatecodeID: integer (nullable = true)\n",
      " |-- store_and_fwd_flag: string (nullable = true)\n",
      " |-- PULocationID: integer (nullable = true)\n",
      " |-- DOLocationID: integer (nullable = true)\n",
      " |-- payment_type: integer (nullable = true)\n",
      " |-- fare_amount: double (nullable = true)\n",
      " |-- extra: double (nullable = true)\n",
      " |-- mta_tax: double (nullable = true)\n",
      " |-- tip_amount: double (nullable = true)\n",
      " |-- tolls_amount: double (nullable = true)\n",
      " |-- improvement_surcharge: double (nullable = true)\n",
      " |-- total_amount: double (nullable = true)\n",
      " |-- congestion_surcharge: double (nullable = true)\n",
      "\n"
     ]
    }
   ],
   "source": [
    "df.printSchema()"
   ]
  },
  {
   "cell_type": "code",
   "execution_count": 7,
   "id": "bf5c095e",
   "metadata": {},
   "outputs": [
    {
     "name": "stdout",
     "output_type": "stream",
     "text": [
      "+--------+--------------------+---------------------+---------------+-------------+----------+------------------+------------+------------+------------+-----------+-----+-------+----------+------------+---------------------+------------+--------------------+\n",
      "|VendorId|tpep_pickup_datetime|tpep_dropoff_datetime|passenger_count|trip_distance|RatecodeID|store_and_fwd_flag|PULocationID|DOLocationID|payment_type|fare_amount|extra|mta_tax|tip_amount|tolls_amount|improvement_surcharge|total_amount|congestion_surcharge|\n",
      "+--------+--------------------+---------------------+---------------+-------------+----------+------------------+------------+------------+------------+-----------+-----+-------+----------+------------+---------------------+------------+--------------------+\n",
      "|   65441|                   0|                    0|          65441|            0|     65441|             65441|           0|           0|       65441|          0|    0|      0|         0|           0|                    0|           0|                   0|\n",
      "+--------+--------------------+---------------------+---------------+-------------+----------+------------------+------------+------------+------------+-----------+-----+-------+----------+------------+---------------------+------------+--------------------+\n",
      "\n"
     ]
    }
   ],
   "source": [
    "# проверяем датафрейм на наличие нулевых значений\n",
    "\n",
    "df.select([count(when(col(c).isNull(), c)).alias(c) for c in df.columns]).show()"
   ]
  },
  {
   "cell_type": "code",
   "execution_count": 8,
   "id": "86106193",
   "metadata": {},
   "outputs": [],
   "source": [
    "#чистим df от нулевых значений\n",
    "\n",
    "df_clean = df.dropna(how='any')"
   ]
  },
  {
   "cell_type": "code",
   "execution_count": 9,
   "id": "56a330b2",
   "metadata": {},
   "outputs": [
    {
     "name": "stdout",
     "output_type": "stream",
     "text": [
      "+--------+--------------------+---------------------+---------------+-------------+----------+------------------+------------+------------+------------+-----------+-----+-------+----------+------------+---------------------+------------+--------------------+\n",
      "|VendorId|tpep_pickup_datetime|tpep_dropoff_datetime|passenger_count|trip_distance|RatecodeID|store_and_fwd_flag|PULocationID|DOLocationID|payment_type|fare_amount|extra|mta_tax|tip_amount|tolls_amount|improvement_surcharge|total_amount|congestion_surcharge|\n",
      "+--------+--------------------+---------------------+---------------+-------------+----------+------------------+------------+------------+------------+-----------+-----+-------+----------+------------+---------------------+------------+--------------------+\n",
      "|       0|                   0|                    0|              0|            0|         0|                 0|           0|           0|           0|          0|    0|      0|         0|           0|                    0|           0|                   0|\n",
      "+--------+--------------------+---------------------+---------------+-------------+----------+------------------+------------+------------+------------+-----------+-----+-------+----------+------------+---------------------+------------+--------------------+\n",
      "\n"
     ]
    }
   ],
   "source": [
    "# снова проверяем датафрейм на наличие нулевых значений, убеждаемся в их отсутствии\n",
    "\n",
    "df_clean.select([count(when(col(c).isNull(), c)).alias(c) for c in df.columns]).show()"
   ]
  },
  {
   "cell_type": "code",
   "execution_count": 10,
   "id": "9d85eb20",
   "metadata": {},
   "outputs": [],
   "source": [
    "df_clean.createOrReplaceTempView('taxi_service_in_process')"
   ]
  },
  {
   "cell_type": "code",
   "execution_count": 11,
   "id": "ea711add",
   "metadata": {},
   "outputs": [],
   "source": [
    "# запрос для очистки от отрицательных значений (для корректности входных данных)\n",
    "\n",
    "sql = \"\"\"\n",
    "SELECT *\n",
    "FROM taxi_service_in_process\n",
    "WHERE \n",
    "total_amount > 0 AND\n",
    "trip_distance > 0\n",
    "\"\"\""
   ]
  },
  {
   "cell_type": "code",
   "execution_count": 12,
   "id": "bcbd9d4f",
   "metadata": {},
   "outputs": [],
   "source": [
    "# Создание копии df с очищенными данными\n",
    "\n",
    "df_done = spark.sql(sql)\n",
    "\n",
    "df_done.createOrReplaceTempView('taxi_service')\n",
    "\n",
    "# df_done.show(100)"
   ]
  },
  {
   "cell_type": "code",
   "execution_count": 13,
   "id": "0192dede",
   "metadata": {},
   "outputs": [
    {
     "name": "stdout",
     "output_type": "stream",
     "text": [
      "+----------+---------------+------------+------------+-------------+----------+----------+-------------+----------+----------+-------------+----------+----------+------------------+---------------+---------------+\n",
      "|      date|percentage_zero|zero_max_amm|zero_min_amm|percentage_1p|max_amm_1p|min_amm_1p|percentage_2p|max_amm_2p|min_amm_2p|percentage_3p|max_amm_3p|min_amm_3p|percentage_4p_plus|max_amm_4p_plus|min_amm_4p_plus|\n",
      "+----------+---------------+------------+------------+-------------+----------+----------+-------------+----------+----------+-------------+----------+----------+------------------+---------------+---------------+\n",
      "|2009-01-01|              0|         0.0|         0.0|           79|      74.8|       3.3|            5|      31.3|      31.3|            5|      13.8|      13.8|                11|          61.42|            9.3|\n",
      "|2020-01-04|              2|      152.54|         0.3|           66|     965.8|       0.3|           18|     481.3|       0.3|            5|     158.8|       0.3|                 9|          577.8|            0.3|\n",
      "|2020-01-03|              2|      187.42|         0.3|           69|    1242.3|       0.3|           16|     370.3|       0.3|            5|    409.59|       3.8|                 9|          226.1|            0.3|\n",
      "|2020-01-02|              2|      162.42|         0.3|           69|    390.96|       0.3|           16|    210.65|       0.3|            5|    215.54|       0.3|                 9|          352.3|            3.3|\n",
      "|2020-01-01|              2|      145.55|         0.3|           63|     465.3|       0.3|           20|    281.42|       0.3|            6|    433.04|      0.31|                10|         350.42|            0.3|\n",
      "|2021-01-02|              0|         0.0|         0.0|          100|     17.16|      14.8|            0|       0.0|       0.0|            0|       0.0|       0.0|                 0|            0.0|            0.0|\n",
      "|2019-12-31|              0|         0.0|         0.0|           58|     71.62|       5.8|           16|      41.8|       5.8|            5|     34.42|     10.56|                21|          54.36|            6.8|\n",
      "|2008-12-31|              0|         0.0|         0.0|           80|      73.7|       7.3|            0|       0.0|       0.0|           10|      7.25|      7.25|                10|           55.3|           55.3|\n",
      "|2020-01-07|              2|       114.8|         0.3|           74|    410.67|       0.3|           14|    312.96|       3.3|            3|     225.3|       3.3|                 7|          242.8|            3.3|\n",
      "|2020-01-05|              2|      435.42|         0.3|           68|    596.42|       0.3|           17|     375.3|       0.3|            5|    333.34|      0.31|                 9|         255.42|            3.3|\n",
      "|2020-01-06|              2|      275.42|         0.3|           74|    581.06|       0.3|           14|    276.36|       0.3|            4|     200.3|       3.3|                 7|          181.8|            0.6|\n",
      "|2020-01-30|              2|      137.35|         3.3|           74|     349.1|       0.3|           13|    243.49|       0.3|            3|     212.9|       0.3|                 7|         411.82|            0.3|\n",
      "|2020-01-09|              2|      114.75|         0.3|           74|     620.3|       0.3|           14|     226.7|       0.3|            3|     230.3|       4.3|                 7|         333.04|            3.3|\n",
      "|2020-01-08|              2|      319.03|         0.3|           74|    914.55|       0.3|           14|    282.36|       0.3|            4|    182.05|       0.3|                 7|         253.67|            0.3|\n",
      "|2020-01-10|              2|       253.3|         3.3|           72|     303.8|       0.3|           15|    245.05|       0.3|            4|    187.55|       3.3|                 7|          280.8|            3.3|\n",
      "|2020-01-11|              2|      143.45|         0.3|           67|    416.15|       0.3|           18|    228.02|       0.3|            5|     250.3|       0.3|                 8|         424.29|            3.3|\n",
      "|2020-01-12|              2|       161.8|         0.3|           69|     450.3|       0.3|           17|     431.6|       0.3|            5|    331.42|      0.31|                 8|         658.35|            0.3|\n",
      "|2020-02-23|              0|         0.0|         0.0|            0|       0.0|       0.0|            0|       0.0|       0.0|          100|      28.8|      28.8|                 0|            0.0|            0.0|\n",
      "|2020-01-13|              2|      276.29|         2.5|           75|    534.12|       0.3|           13|     400.3|       0.3|            4|    178.92|       3.8|                 7|          300.3|            3.3|\n",
      "|2020-03-16|              0|         0.0|         0.0|            0|       0.0|       0.0|            0|       0.0|       0.0|          100|      8.76|      8.76|                 0|            0.0|            0.0|\n",
      "|2020-02-02|              0|         0.0|         0.0|            0|       0.0|       0.0|           50|       9.8|       9.8|           50|       9.3|       9.3|                 0|            0.0|            0.0|\n",
      "|2020-01-14|              2|       172.3|         0.3|           74|    340.01|       0.3|           13|     330.5|       0.3|            3|     300.3|       0.3|                 7|         412.09|            1.6|\n",
      "|2020-01-17|              2|       281.3|         0.3|           72|     769.8|       0.3|           15|    360.96|       0.3|            4|    149.89|       3.3|                 7|         351.29|            3.3|\n",
      "|2020-01-16|              2|      112.36|         0.3|           74|    395.45|       0.3|           14|    291.35|      0.31|            3|    207.95|       3.8|                 7|         156.04|            1.3|\n",
      "|2020-01-15|              2|       322.8|         3.3|           74|    381.79|       0.3|           13|    408.95|       0.3|            3|    184.67|       0.3|                 7|         179.16|            3.3|\n",
      "|2020-01-19|              2|      160.92|         0.8|           67|     464.8|       0.3|           18|     407.8|       0.3|            5|    499.56|       0.3|                 9|         222.36|            3.3|\n",
      "|2020-01-18|              2|      166.92|         3.8|           67|    446.46|       0.3|           18|     387.6|       0.3|            5|    435.54|       0.3|                 9|         384.66|            3.3|\n",
      "|2020-01-21|              2|      216.12|         0.3|           74|    4268.3|       0.3|           13|     335.0|       0.3|            3|    240.06|       0.3|                 7|         406.42|            0.3|\n",
      "|2020-02-12|              0|         0.0|         0.0|          100|      18.3|     11.76|            0|       0.0|       0.0|            0|       0.0|       0.0|                 0|            0.0|            0.0|\n",
      "|2020-03-25|              0|         0.0|         0.0|          100|      17.3|      11.3|            0|       0.0|       0.0|            0|       0.0|       0.0|                 0|            0.0|            0.0|\n",
      "|2020-07-31|              0|         0.0|         0.0|          100|       9.3|       9.3|            0|       0.0|       0.0|            0|       0.0|       0.0|                 0|            0.0|            0.0|\n",
      "|2020-01-22|              2|      246.42|         3.8|           75|    1110.8|       0.3|           13|    294.96|       0.3|            3|    166.92|       3.8|                 7|          264.2|            3.3|\n",
      "|2020-07-10|              0|         0.0|         0.0|          100|     20.16|      9.36|            0|       0.0|       0.0|            0|       0.0|       0.0|                 0|            0.0|            0.0|\n",
      "|2020-05-28|              0|         0.0|         0.0|          100|     18.96|       9.8|            0|       0.0|       0.0|            0|       0.0|       0.0|                 0|            0.0|            0.0|\n",
      "|2020-05-07|              0|         0.0|         0.0|          100|     31.62|     11.16|            0|       0.0|       0.0|            0|       0.0|       0.0|                 0|            0.0|            0.0|\n",
      "|2020-01-20|              2|       226.3|         0.3|           71|    471.79|       0.3|           16|     617.3|       0.3|            4|    409.89|       3.8|                 8|          240.2|            3.3|\n",
      "|2020-04-16|              0|         0.0|         0.0|          100|     10.56|     10.56|            0|       0.0|       0.0|            0|       0.0|       0.0|                 0|            0.0|            0.0|\n",
      "|2020-03-04|              0|         0.0|         0.0|          100|     15.34|     15.34|            0|       0.0|       0.0|            0|       0.0|       0.0|                 0|            0.0|            0.0|\n",
      "|2020-06-19|              0|         0.0|         0.0|          100|      25.3|      25.3|            0|       0.0|       0.0|            0|       0.0|       0.0|                 0|            0.0|            0.0|\n",
      "|2020-01-25|              2|      140.05|         0.3|           67|     350.3|       0.3|           18|    173.72|       0.3|            5|    272.23|       3.8|                 9|          153.8|            3.3|\n",
      "|2020-01-24|              2|      163.02|         0.3|           72|    735.17|       0.3|           15|    308.47|       0.3|            4|    275.69|       0.3|                 7|          184.1|            0.3|\n",
      "|2020-01-23|              2|      194.29|         3.8|           74|    553.14|       0.3|           13|    312.88|       0.3|            3|    170.74|       0.3|                 7|         367.35|            0.3|\n",
      "|2020-01-27|              2|      156.17|         3.3|           74|    425.92|       0.3|           13|     234.1|       0.3|            4|    318.29|      3.15|                 7|         238.55|           0.31|\n",
      "|2020-03-26|              0|         0.0|         0.0|            0|       0.0|       0.0|            0|       0.0|       0.0|            0|       0.0|       0.0|               100|           21.8|           21.8|\n",
      "|2020-01-26|              2|      186.35|         0.3|           68|    1722.3|       0.3|           17|    345.34|       0.3|            5|    173.16|       3.3|                 8|         217.86|            0.3|\n",
      "|2020-01-29|              2|      209.17|         3.3|           75|     499.8|       0.3|           13|    454.19|       0.3|            3|    231.92|       3.3|                 7|         227.66|            3.3|\n",
      "|2020-01-28|              2|      143.05|         3.3|           75|     587.3|       0.3|           13|    298.12|       0.3|            3|    156.36|       3.8|                 7|          294.8|            3.3|\n",
      "|2020-02-01|              0|         0.0|         0.0|           74|    164.33|       9.8|           22|     21.36|     12.36|            0|       0.0|       0.0|                 4|           11.3|           11.3|\n",
      "|2020-01-31|              2|      159.77|         0.3|           73|    906.35|       0.3|           15|     272.8|       0.3|            4|    135.36|       3.3|                 7|         293.16|            3.3|\n",
      "+----------+---------------+------------+------------+-------------+----------+----------+-------------+----------+----------+-------------+----------+----------+------------------+---------------+---------------+\n",
      "\n"
     ]
    }
   ],
   "source": [
    "# Запрос для создания витрины данных \n",
    "\n",
    "sql = \"\"\"\n",
    "WITH\n",
    "clear_date_from_table\n",
    "AS\n",
    "(\n",
    "\tSELECT date(tpep_pickup_datetime) AS date\n",
    "\tFROM taxi_service ts \n",
    "),\n",
    "date_count\n",
    "AS\n",
    "(\n",
    "\tSELECT count(date) AS count_date,\n",
    "\tdate AS date\n",
    "\tFROM clear_date_from_table\n",
    "\tGROUP BY date\n",
    "),\n",
    "info_zero\n",
    "AS\n",
    "(\n",
    "\tSELECT max(total_amount) AS zero_max_amm,\n",
    "\tmin(total_amount) AS zero_min_amm,\n",
    "\tdate(tpep_pickup_datetime) AS date,\n",
    "\tcount(passenger_count) AS percentage_zero\n",
    "\tFROM taxi_service ts \n",
    "\tWHERE passenger_count = 0\n",
    "\tGROUP BY date\n",
    "),\n",
    "info_1p\n",
    "AS\n",
    "(\n",
    "\tSELECT max(total_amount) AS max_amm_1p,\n",
    "\tmin(total_amount) AS min_amm_1p,\n",
    "\tdate(tpep_pickup_datetime) AS date,\n",
    "\tcount(passenger_count) AS percentage_1p\n",
    "\tFROM taxi_service ts \n",
    "\tWHERE passenger_count = 1\n",
    "\tGROUP BY date\n",
    "),\n",
    "info_2p\n",
    "AS\n",
    "(\n",
    "\tSELECT max(total_amount) AS max_amm_2p,\n",
    "\tmin(total_amount) AS min_amm_2p,\n",
    "\tdate(tpep_pickup_datetime) AS date,\n",
    "\tcount(passenger_count) AS percentage_2p\n",
    "\tFROM taxi_service ts \n",
    "\tWHERE passenger_count = 2\n",
    "\tGROUP BY date\n",
    "),\n",
    "info_3p\n",
    "AS\n",
    "(\n",
    "\tSELECT max(total_amount) AS max_amm_3p,\n",
    "\tmin(total_amount) AS min_amm_3p,\n",
    "\tdate(tpep_pickup_datetime) AS date,\n",
    "\tcount(passenger_count) AS percentage_3p\n",
    "\tFROM taxi_service ts \n",
    "\tWHERE passenger_count = 3\n",
    "\tGROUP BY date\n",
    "),\n",
    "info_4p_plus\n",
    "AS\n",
    "(\n",
    "\tSELECT max(total_amount) AS max_amm_4p_plus,\n",
    "\tmin(total_amount) AS min_amm_4p_plus,\n",
    "\tdate(tpep_pickup_datetime) AS date,\n",
    "\tcount(passenger_count) AS percentage_4p_plus\n",
    "\tFROM taxi_service ts \n",
    "\tWHERE passenger_count > 3\n",
    "\tGROUP BY date\n",
    ")\n",
    "SELECT date,\n",
    "COALESCE(round((CAST(percentage_zero AS decimal) / count_date) * 100), 0) AS percentage_zero,\n",
    "COALESCE(zero_max_amm, 0) AS zero_max_amm,\n",
    "COALESCE(zero_min_amm, 0) AS zero_min_amm,\n",
    "COALESCE(round((CAST(percentage_1p AS decimal) / count_date) * 100), 0) AS percentage_1p,\n",
    "COALESCE(max_amm_1p, 0) AS max_amm_1p,\n",
    "COALESCE(min_amm_1p, 0) AS min_amm_1p,\n",
    "COALESCE(round((CAST(percentage_2p AS decimal) / count_date) * 100), 0) AS percentage_2p,\n",
    "COALESCE(max_amm_2p, 0) AS max_amm_2p,\n",
    "COALESCE(min_amm_2p, 0) AS min_amm_2p,\n",
    "COALESCE(round((CAST(percentage_3p AS decimal) / count_date) * 100), 0) AS percentage_3p,\n",
    "COALESCE(max_amm_3p, 0) AS max_amm_3p,\n",
    "COALESCE(min_amm_3p, 0) AS min_amm_3p,\n",
    "COALESCE(round((CAST(percentage_4p_plus AS decimal) / count_date) * 100), 0) AS percentage_4p_plus,\n",
    "COALESCE(max_amm_4p_plus, 0) AS max_amm_4p_plus,\n",
    "COALESCE(min_amm_4p_plus, 0) AS min_amm_4p_plus\n",
    "FROM date_count \n",
    "LEFT JOIN info_1p USING(date)\n",
    "LEFT JOIN info_2p USING(date)\n",
    "LEFT JOIN info_3p USING(date)\n",
    "LEFT JOIN info_4p_plus USING(date)\n",
    "LEFT JOIN info_zero USING(date)\n",
    "\"\"\"\n",
    "\n",
    "# Создание итоговой витрины\n",
    "\n",
    "df2 = spark.sql(sql)\n",
    "\n",
    "df2.createOrReplaceTempView('taxi_service_done')\n",
    "\n",
    "df2.show(100)"
   ]
  }
 ],
 "metadata": {
  "kernelspec": {
   "display_name": "Python 3 (ipykernel)",
   "language": "python",
   "name": "python3"
  },
  "language_info": {
   "codemirror_mode": {
    "name": "ipython",
    "version": 3
   },
   "file_extension": ".py",
   "mimetype": "text/x-python",
   "name": "python",
   "nbconvert_exporter": "python",
   "pygments_lexer": "ipython3",
   "version": "3.11.4"
  }
 },
 "nbformat": 4,
 "nbformat_minor": 5
}
